{
 "cells": [
  {
   "cell_type": "code",
   "execution_count": 1,
   "metadata": {},
   "outputs": [],
   "source": [
    "#Dependencies and Setup\n",
    "import pandas as pd\n",
    "\n",
    "#Files to Load\n",
    "school_data = \"Resources/schools_complete.csv\"\n",
    "students_data = \"Resources/students_complete.csv\"\n",
    "\n",
    "#Read School and Student Data File, store into Panda DataFrames\n",
    "school_df = pd.read_csv(school_data)\n",
    "students_df = pd.read_csv(students_data)\n",
    "\n",
    "#Combine the data into a single dataset\n",
    "school_complete = pd.merge(students_df, school_df, how=\"left\", on=[\"school_name\", \"school_name\"])"
   ]
  },
  {
   "cell_type": "code",
   "execution_count": 2,
   "metadata": {
    "scrolled": true
   },
   "outputs": [
    {
     "data": {
      "text/html": [
       "<div>\n",
       "<style scoped>\n",
       "    .dataframe tbody tr th:only-of-type {\n",
       "        vertical-align: middle;\n",
       "    }\n",
       "\n",
       "    .dataframe tbody tr th {\n",
       "        vertical-align: top;\n",
       "    }\n",
       "\n",
       "    .dataframe thead th {\n",
       "        text-align: right;\n",
       "    }\n",
       "</style>\n",
       "<table border=\"1\" class=\"dataframe\">\n",
       "  <thead>\n",
       "    <tr style=\"text-align: right;\">\n",
       "      <th></th>\n",
       "      <th>Total Schools</th>\n",
       "      <th>Total Students</th>\n",
       "      <th>Total Budget</th>\n",
       "      <th>Average Math Score</th>\n",
       "      <th>Average Reading Score</th>\n",
       "      <th>% Passing Math</th>\n",
       "      <th>% Passing Reading</th>\n",
       "      <th>% Overall Passing</th>\n",
       "    </tr>\n",
       "  </thead>\n",
       "  <tbody>\n",
       "    <tr>\n",
       "      <th>0</th>\n",
       "      <td>15</td>\n",
       "      <td>39170</td>\n",
       "      <td>24649428</td>\n",
       "      <td>78.985371</td>\n",
       "      <td>81.87784</td>\n",
       "      <td>74.980853</td>\n",
       "      <td>74.980853</td>\n",
       "      <td>65.172326</td>\n",
       "    </tr>\n",
       "  </tbody>\n",
       "</table>\n",
       "</div>"
      ],
      "text/plain": [
       "   Total Schools  Total Students  Total Budget  Average Math Score  \\\n",
       "0             15           39170      24649428           78.985371   \n",
       "\n",
       "   Average Reading Score  % Passing Math  % Passing Reading  % Overall Passing  \n",
       "0               81.87784       74.980853          74.980853          65.172326  "
      ]
     },
     "execution_count": 2,
     "metadata": {},
     "output_type": "execute_result"
    }
   ],
   "source": [
    "#Calculate the total number of schools\n",
    "total_schools = len(school_complete[\"school_name\"].unique())\n",
    "#Calulate the total number of students\n",
    "total_students = school_df[\"size\"].sum()\n",
    "#Calculate the total budget\n",
    "total_budgets = school_df[\"budget\"].sum()\n",
    "#Calculate the average math score\n",
    "avg_math = school_complete[\"math_score\"].mean()\n",
    "#Calculate the average reading score\n",
    "avg_read = school_complete[\"reading_score\"].mean()\n",
    "#Calculate the percentage of students with a passing math score\n",
    "passing_math_df = school_complete.loc[school_complete[\"math_score\"]>69, :]\n",
    "math_count = len(passing_math_df)\n",
    "percent_passmath = (math_count/total_students)*100\n",
    "#Calculate the percentage of students with a passing reading score\n",
    "passing_read_df = school_complete.loc[school_complete[\"reading_score\"]>69, :]\n",
    "read_count = len(passing_read_df)\n",
    "percent_passread = (read_count/total_students)*100\n",
    "#Calculate the percentage of students who passed math and reading\n",
    "passing_overall_df = pd.merge(passing_math_df, passing_read_df, on=\"Student ID\")\n",
    "overall_count = len(passing_overall_df)\n",
    "percent_overall = (overall_count/total_students)*100\n",
    "#Create a dataframe to hold the above results\n",
    "district_summ_df = pd.DataFrame({\"Total Schools\":[total_schools], \"Total Students\":[total_students], \"Total Budget\":[total_budgets], \"Average Math Score\":[avg_math], \"Average Reading Score\":[avg_read], \"% Passing Math\":[percent_passmath], \"% Passing Reading\":[percent_passmath], \"% Overall Passing\":[percent_overall]})\n",
    "district_summ_df"
   ]
  },
  {
   "cell_type": "code",
   "execution_count": null,
   "metadata": {},
   "outputs": [],
   "source": []
  },
  {
   "cell_type": "code",
   "execution_count": null,
   "metadata": {},
   "outputs": [],
   "source": []
  }
 ],
 "metadata": {
  "kernelspec": {
   "display_name": "Python 3",
   "language": "python",
   "name": "python3"
  },
  "language_info": {
   "codemirror_mode": {
    "name": "ipython",
    "version": 3
   },
   "file_extension": ".py",
   "mimetype": "text/x-python",
   "name": "python",
   "nbconvert_exporter": "python",
   "pygments_lexer": "ipython3",
   "version": "3.8.3"
  }
 },
 "nbformat": 4,
 "nbformat_minor": 4
}
